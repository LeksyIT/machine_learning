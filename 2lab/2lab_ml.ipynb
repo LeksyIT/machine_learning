{
 "cells": [
  {
   "cell_type": "markdown",
   "source": [
    "### Лабораторная работа 2: основные понятия"
   ],
   "metadata": {
    "collapsed": false
   }
  },
  {
   "cell_type": "markdown",
   "source": [
    "В сегодняшней лабораторной будем работать с данными о проданных на аукционе автомобилях (`Carvana Car Prediction`). Целевым признаком здесь является наличие скрытых продавцом существенных недостатков.\n",
    "\n",
    "Carvana &mdash; компания-перекупщик автомобилей, соответственно, ее задача &mdash; не допустить скупку автомобилей со скрытыми недостатками, так как их впоследствии тяжелее продавать."
   ],
   "metadata": {
    "collapsed": false
   }
  },
  {
   "cell_type": "markdown",
   "source": [
    "## 1"
   ],
   "metadata": {
    "collapsed": false
   }
  },
  {
   "cell_type": "markdown",
   "source": [
    "Загрузите данные о проданных на аукционе автомобилях. Посмотрите на \"сырые\" данные.\n",
    "\n",
    "Просмотрите файл `DataDictionary-ru.txt` и поймите, что означают столбцы матрицы. Выведите статистику по столбцам.\n"
   ],
   "metadata": {
    "collapsed": false
   }
  },
  {
   "cell_type": "code",
   "execution_count": 1,
   "outputs": [],
   "source": [
    "import pandas as pd"
   ],
   "metadata": {
    "collapsed": false,
    "pycharm": {
     "name": "#%%\n"
    }
   }
  },
  {
   "cell_type": "code",
   "execution_count": 2,
   "outputs": [
    {
     "data": {
      "text/plain": "       RefId  IsBadBuy  PurchDate Auction  VehYear  VehicleAge       Make  \\\n0          1         0  12/7/2009   ADESA     2006           3      MAZDA   \n1          2         0  12/7/2009   ADESA     2004           5      DODGE   \n2          3         0  12/7/2009   ADESA     2005           4      DODGE   \n3          4         0  12/7/2009   ADESA     2004           5      DODGE   \n4          5         0  12/7/2009   ADESA     2005           4       FORD   \n...      ...       ...        ...     ...      ...         ...        ...   \n72978  73010         1  12/2/2009   ADESA     2001           8    MERCURY   \n72979  73011         0  12/2/2009   ADESA     2007           2  CHEVROLET   \n72980  73012         0  12/2/2009   ADESA     2005           4       JEEP   \n72981  73013         0  12/2/2009   ADESA     2006           3  CHEVROLET   \n72982  73014         0  12/2/2009   ADESA     2006           3      MAZDA   \n\n                      Model Trim           SubModel  ...  \\\n0                    MAZDA3    i         4D SEDAN I  ...   \n1       1500 RAM PICKUP 2WD   ST  QUAD CAB 4.7L SLT  ...   \n2                STRATUS V6  SXT   4D SEDAN SXT FFV  ...   \n3                      NEON  SXT           4D SEDAN  ...   \n4                     FOCUS  ZX3       2D COUPE ZX3  ...   \n...                     ...  ...                ...  ...   \n72978                 SABLE   GS        4D SEDAN GS  ...   \n72979             MALIBU 4C   LS        4D SEDAN LS  ...   \n72980  GRAND CHEROKEE 2WD V  Lar    4D WAGON LAREDO  ...   \n72981                IMPALA   LS        4D SEDAN LS  ...   \n72982                MAZDA6    s         4D SEDAN S  ...   \n\n      MMRCurrentRetailAveragePrice MMRCurrentRetailCleanPrice  PRIMEUNIT  \\\n0                          11597.0                    12409.0        NaN   \n1                          11374.0                    12791.0        NaN   \n2                           7146.0                     8702.0        NaN   \n3                           4375.0                     5518.0        NaN   \n4                           6739.0                     7911.0        NaN   \n...                            ...                        ...        ...   \n72978                       4836.0                     5937.0        NaN   \n72979                      10151.0                    11652.0        NaN   \n72980                      11831.0                    14402.0        NaN   \n72981                      10099.0                    11228.0        NaN   \n72982                      11954.0                    13246.0        NaN   \n\n      AUCGUART  BYRNO VNZIP1 VNST VehBCost  IsOnlineSale  WarrantyCost  \n0          NaN  21973  33619   FL   7100.0             0          1113  \n1          NaN  19638  33619   FL   7600.0             0          1053  \n2          NaN  19638  33619   FL   4900.0             0          1389  \n3          NaN  19638  33619   FL   4100.0             0           630  \n4          NaN  19638  33619   FL   4000.0             0          1020  \n...        ...    ...    ...  ...      ...           ...           ...  \n72978      NaN  18111  30212   GA   4200.0             0           993  \n72979      NaN  18881  30212   GA   6200.0             0          1038  \n72980      NaN  18111  30212   GA   8200.0             0          1893  \n72981      NaN  18881  30212   GA   7000.0             0          1974  \n72982      NaN  18111  30212   GA   8000.0             0          1313  \n\n[72983 rows x 34 columns]",
      "text/html": "<div>\n<style scoped>\n    .dataframe tbody tr th:only-of-type {\n        vertical-align: middle;\n    }\n\n    .dataframe tbody tr th {\n        vertical-align: top;\n    }\n\n    .dataframe thead th {\n        text-align: right;\n    }\n</style>\n<table border=\"1\" class=\"dataframe\">\n  <thead>\n    <tr style=\"text-align: right;\">\n      <th></th>\n      <th>RefId</th>\n      <th>IsBadBuy</th>\n      <th>PurchDate</th>\n      <th>Auction</th>\n      <th>VehYear</th>\n      <th>VehicleAge</th>\n      <th>Make</th>\n      <th>Model</th>\n      <th>Trim</th>\n      <th>SubModel</th>\n      <th>...</th>\n      <th>MMRCurrentRetailAveragePrice</th>\n      <th>MMRCurrentRetailCleanPrice</th>\n      <th>PRIMEUNIT</th>\n      <th>AUCGUART</th>\n      <th>BYRNO</th>\n      <th>VNZIP1</th>\n      <th>VNST</th>\n      <th>VehBCost</th>\n      <th>IsOnlineSale</th>\n      <th>WarrantyCost</th>\n    </tr>\n  </thead>\n  <tbody>\n    <tr>\n      <th>0</th>\n      <td>1</td>\n      <td>0</td>\n      <td>12/7/2009</td>\n      <td>ADESA</td>\n      <td>2006</td>\n      <td>3</td>\n      <td>MAZDA</td>\n      <td>MAZDA3</td>\n      <td>i</td>\n      <td>4D SEDAN I</td>\n      <td>...</td>\n      <td>11597.0</td>\n      <td>12409.0</td>\n      <td>NaN</td>\n      <td>NaN</td>\n      <td>21973</td>\n      <td>33619</td>\n      <td>FL</td>\n      <td>7100.0</td>\n      <td>0</td>\n      <td>1113</td>\n    </tr>\n    <tr>\n      <th>1</th>\n      <td>2</td>\n      <td>0</td>\n      <td>12/7/2009</td>\n      <td>ADESA</td>\n      <td>2004</td>\n      <td>5</td>\n      <td>DODGE</td>\n      <td>1500 RAM PICKUP 2WD</td>\n      <td>ST</td>\n      <td>QUAD CAB 4.7L SLT</td>\n      <td>...</td>\n      <td>11374.0</td>\n      <td>12791.0</td>\n      <td>NaN</td>\n      <td>NaN</td>\n      <td>19638</td>\n      <td>33619</td>\n      <td>FL</td>\n      <td>7600.0</td>\n      <td>0</td>\n      <td>1053</td>\n    </tr>\n    <tr>\n      <th>2</th>\n      <td>3</td>\n      <td>0</td>\n      <td>12/7/2009</td>\n      <td>ADESA</td>\n      <td>2005</td>\n      <td>4</td>\n      <td>DODGE</td>\n      <td>STRATUS V6</td>\n      <td>SXT</td>\n      <td>4D SEDAN SXT FFV</td>\n      <td>...</td>\n      <td>7146.0</td>\n      <td>8702.0</td>\n      <td>NaN</td>\n      <td>NaN</td>\n      <td>19638</td>\n      <td>33619</td>\n      <td>FL</td>\n      <td>4900.0</td>\n      <td>0</td>\n      <td>1389</td>\n    </tr>\n    <tr>\n      <th>3</th>\n      <td>4</td>\n      <td>0</td>\n      <td>12/7/2009</td>\n      <td>ADESA</td>\n      <td>2004</td>\n      <td>5</td>\n      <td>DODGE</td>\n      <td>NEON</td>\n      <td>SXT</td>\n      <td>4D SEDAN</td>\n      <td>...</td>\n      <td>4375.0</td>\n      <td>5518.0</td>\n      <td>NaN</td>\n      <td>NaN</td>\n      <td>19638</td>\n      <td>33619</td>\n      <td>FL</td>\n      <td>4100.0</td>\n      <td>0</td>\n      <td>630</td>\n    </tr>\n    <tr>\n      <th>4</th>\n      <td>5</td>\n      <td>0</td>\n      <td>12/7/2009</td>\n      <td>ADESA</td>\n      <td>2005</td>\n      <td>4</td>\n      <td>FORD</td>\n      <td>FOCUS</td>\n      <td>ZX3</td>\n      <td>2D COUPE ZX3</td>\n      <td>...</td>\n      <td>6739.0</td>\n      <td>7911.0</td>\n      <td>NaN</td>\n      <td>NaN</td>\n      <td>19638</td>\n      <td>33619</td>\n      <td>FL</td>\n      <td>4000.0</td>\n      <td>0</td>\n      <td>1020</td>\n    </tr>\n    <tr>\n      <th>...</th>\n      <td>...</td>\n      <td>...</td>\n      <td>...</td>\n      <td>...</td>\n      <td>...</td>\n      <td>...</td>\n      <td>...</td>\n      <td>...</td>\n      <td>...</td>\n      <td>...</td>\n      <td>...</td>\n      <td>...</td>\n      <td>...</td>\n      <td>...</td>\n      <td>...</td>\n      <td>...</td>\n      <td>...</td>\n      <td>...</td>\n      <td>...</td>\n      <td>...</td>\n      <td>...</td>\n    </tr>\n    <tr>\n      <th>72978</th>\n      <td>73010</td>\n      <td>1</td>\n      <td>12/2/2009</td>\n      <td>ADESA</td>\n      <td>2001</td>\n      <td>8</td>\n      <td>MERCURY</td>\n      <td>SABLE</td>\n      <td>GS</td>\n      <td>4D SEDAN GS</td>\n      <td>...</td>\n      <td>4836.0</td>\n      <td>5937.0</td>\n      <td>NaN</td>\n      <td>NaN</td>\n      <td>18111</td>\n      <td>30212</td>\n      <td>GA</td>\n      <td>4200.0</td>\n      <td>0</td>\n      <td>993</td>\n    </tr>\n    <tr>\n      <th>72979</th>\n      <td>73011</td>\n      <td>0</td>\n      <td>12/2/2009</td>\n      <td>ADESA</td>\n      <td>2007</td>\n      <td>2</td>\n      <td>CHEVROLET</td>\n      <td>MALIBU 4C</td>\n      <td>LS</td>\n      <td>4D SEDAN LS</td>\n      <td>...</td>\n      <td>10151.0</td>\n      <td>11652.0</td>\n      <td>NaN</td>\n      <td>NaN</td>\n      <td>18881</td>\n      <td>30212</td>\n      <td>GA</td>\n      <td>6200.0</td>\n      <td>0</td>\n      <td>1038</td>\n    </tr>\n    <tr>\n      <th>72980</th>\n      <td>73012</td>\n      <td>0</td>\n      <td>12/2/2009</td>\n      <td>ADESA</td>\n      <td>2005</td>\n      <td>4</td>\n      <td>JEEP</td>\n      <td>GRAND CHEROKEE 2WD V</td>\n      <td>Lar</td>\n      <td>4D WAGON LAREDO</td>\n      <td>...</td>\n      <td>11831.0</td>\n      <td>14402.0</td>\n      <td>NaN</td>\n      <td>NaN</td>\n      <td>18111</td>\n      <td>30212</td>\n      <td>GA</td>\n      <td>8200.0</td>\n      <td>0</td>\n      <td>1893</td>\n    </tr>\n    <tr>\n      <th>72981</th>\n      <td>73013</td>\n      <td>0</td>\n      <td>12/2/2009</td>\n      <td>ADESA</td>\n      <td>2006</td>\n      <td>3</td>\n      <td>CHEVROLET</td>\n      <td>IMPALA</td>\n      <td>LS</td>\n      <td>4D SEDAN LS</td>\n      <td>...</td>\n      <td>10099.0</td>\n      <td>11228.0</td>\n      <td>NaN</td>\n      <td>NaN</td>\n      <td>18881</td>\n      <td>30212</td>\n      <td>GA</td>\n      <td>7000.0</td>\n      <td>0</td>\n      <td>1974</td>\n    </tr>\n    <tr>\n      <th>72982</th>\n      <td>73014</td>\n      <td>0</td>\n      <td>12/2/2009</td>\n      <td>ADESA</td>\n      <td>2006</td>\n      <td>3</td>\n      <td>MAZDA</td>\n      <td>MAZDA6</td>\n      <td>s</td>\n      <td>4D SEDAN S</td>\n      <td>...</td>\n      <td>11954.0</td>\n      <td>13246.0</td>\n      <td>NaN</td>\n      <td>NaN</td>\n      <td>18111</td>\n      <td>30212</td>\n      <td>GA</td>\n      <td>8000.0</td>\n      <td>0</td>\n      <td>1313</td>\n    </tr>\n  </tbody>\n</table>\n<p>72983 rows × 34 columns</p>\n</div>"
     },
     "execution_count": 2,
     "metadata": {},
     "output_type": "execute_result"
    }
   ],
   "source": [
    "data = pd.read_csv(\"data.csv\", delimiter=',')\n",
    "data"
   ],
   "metadata": {
    "collapsed": false,
    "pycharm": {
     "name": "#%%\n"
    }
   }
  },
  {
   "cell_type": "markdown",
   "source": [
    "## 2\n",
    "\n",
    "Постройте график рассеяния с пробегом в качестве оси абсцисс и ценой `MMRCurrentRetailAveragePrice` в качестве оси ординат. Автомобили без недостатков отметьте зеленым цветом, со скрытыми недостатками — красным."
   ],
   "metadata": {
    "collapsed": false
   }
  },
  {
   "cell_type": "code",
   "execution_count": 3,
   "outputs": [],
   "source": [
    "%matplotlib inline\n",
    "import matplotlib.pyplot as plt"
   ],
   "metadata": {
    "collapsed": false,
    "pycharm": {
     "name": "#%%\n"
    }
   }
  },
  {
   "cell_type": "code",
   "execution_count": 4,
   "outputs": [
    {
     "data": {
      "text/plain": "<matplotlib.collections.PathCollection at 0x1dcef943970>"
     },
     "execution_count": 4,
     "metadata": {},
     "output_type": "execute_result"
    },
    {
     "data": {
      "text/plain": "<Figure size 432x288 with 1 Axes>",
      "image/png": "[encoded data removed]"
     },
     "metadata": {
      "needs_background": "light"
     },
     "output_type": "display_data"
    }
   ],
   "source": [
    "plt.scatter(data[\"VehOdo\"],data[\"MMRCurrentRetailAveragePrice\"], c=data['IsBadBuy'], cmap='RdYlGn_r')"
   ],
   "metadata": {
    "collapsed": false,
    "pycharm": {
     "name": "#%%\n"
    }
   }
  },
  {
   "cell_type": "markdown",
   "source": [
    "# Регрессия"
   ],
   "metadata": {
    "collapsed": false
   }
  },
  {
   "cell_type": "markdown",
   "source": [
    "## 3a\n",
    "\n",
    "Импортируйте из библиотеки `sklearn` все модели машинного обучения:\n",
    "\n",
    "`from sklearn import *`\n",
    "\n",
    "Трактуя задачу о предсказании наличия недостатков как задачу регрессии, натренируйте линейную модель [`LinearRegression`](https://scikit-learn.org/stable/modules/generated/sklearn.linear_model.LinearRegression.html) на каком-нибудь подмножестве признаков (например, тех же `VehOdo` и `MMRCurrentRetailAveragePrice`).\n",
    "\n",
    "С какой проблемой вы столкнулись? Какие способы ее решения вы можете предложить?\n",
    "\n",
    "*Функции, которые могут пригодиться при решении: `.fit(), .loc[], pd.notnull()`*\n",
    "\n",
    "*Создание модели:* `model1 = linear_model.LinearRegression()`\n",
    "\n",
    "*Тренировка:*\n",
    "`model1.fit(x, y)`\n",
    "\n"
   ],
   "metadata": {
    "collapsed": false
   }
  },
  {
   "cell_type": "code",
   "execution_count": 5,
   "outputs": [
    {
     "data": {
      "text/plain": "LinearRegression()"
     },
     "execution_count": 5,
     "metadata": {},
     "output_type": "execute_result"
    }
   ],
   "source": [
    "from sklearn import *\n",
    "model1 = linear_model.LinearRegression()\n",
    "i = pd.notnull(data[\"VehOdo\"]) & pd.notnull(data[\"MMRCurrentRetailAveragePrice\"])\n",
    "model1.fit(data.loc[i,[\"VehOdo\",\"MMRCurrentRetailAveragePrice\"]], data.loc[i,\"IsBadBuy\"])"
   ],
   "metadata": {
    "collapsed": false,
    "pycharm": {
     "name": "#%%\n"
    }
   }
  },
  {
   "cell_type": "markdown",
   "source": [
    "## 3b\n",
    "\n",
    "Выполните предсказание для всех объектов обучающей выборки и присвойте результат переменной prediction\n",
    "\n",
    "*Функции, которые могут пригодиться при решении: `model.predict()`*"
   ],
   "metadata": {
    "collapsed": false
   }
  },
  {
   "cell_type": "code",
   "execution_count": 6,
   "outputs": [
    {
     "data": {
      "text/plain": "array([0.12473569, 0.13585101, 0.14563746, ..., 0.12108278, 0.12349799,\n       0.07867021])"
     },
     "execution_count": 6,
     "metadata": {},
     "output_type": "execute_result"
    }
   ],
   "source": [
    "prediction = model1.predict(data.loc[i,[\"VehOdo\",\"MMRCurrentRetailAveragePrice\"]])\n",
    "prediction"
   ],
   "metadata": {
    "collapsed": false,
    "pycharm": {
     "name": "#%%\n"
    }
   }
  },
  {
   "cell_type": "markdown",
   "source": [
    "## 3c\n",
    "\n",
    "Преобразуйте получившийся вектор предсказаний `prediction` к значениям `{0,1}`. Это можно сделать, например, используя list comprehensions: https://docs.python.org/3/tutorial/datastructures.html#list-comprehensions\n",
    "\n",
    "`predictionClass = [1 if prediction[i] > 0.5 else 0 for i in range(prediction.shape[0])]`"
   ],
   "metadata": {
    "collapsed": false
   }
  },
  {
   "cell_type": "code",
   "execution_count": 7,
   "outputs": [
    {
     "data": {
      "text/plain": "[0,\n 0,\n 0,\n 0,\n 0,\n 0,\n 0,\n 0,\n 0,\n 0,\n 0,\n 0,\n 0,\n 0,\n 0,\n 0,\n 0,\n 0,\n 0,\n 0,\n 0,\n 0,\n 0,\n 0,\n 0,\n 0,\n 0,\n 0,\n 0,\n 0,\n 0,\n 0,\n 0,\n 0,\n 0,\n 0,\n 0,\n 0,\n 0,\n 0,\n 0,\n 0,\n 0,\n 0,\n 0,\n 0,\n 0,\n 0,\n 0,\n 0,\n 0,\n 0,\n 0,\n 0,\n 0,\n 0,\n 0,\n 0,\n 0,\n 0,\n 0,\n 0,\n 0,\n 0,\n 0,\n 0,\n 0,\n 0,\n 0,\n 0,\n 0,\n 0,\n 0,\n 0,\n 0,\n 0,\n 0,\n 0,\n 0,\n 0,\n 0,\n 0,\n 0,\n 0,\n 0,\n 0,\n 0,\n 0,\n 0,\n 0,\n 0,\n 0,\n 0,\n 0,\n 0,\n 0,\n 0,\n 0,\n 0,\n 0,\n 0,\n 0,\n 0,\n 0,\n 0,\n 0,\n 0,\n 0,\n 0,\n 0,\n 0,\n 0,\n 0,\n 0,\n 0,\n 0,\n 0,\n 0,\n 0,\n 0,\n 0,\n 0,\n 0,\n 0,\n 0,\n 0,\n 0,\n 0,\n 0,\n 0,\n 0,\n 0,\n 0,\n 0,\n 0,\n 0,\n 0,\n 0,\n 0,\n 0,\n 0,\n 0,\n 0,\n 0,\n 0,\n 0,\n 0,\n 0,\n 0,\n 0,\n 0,\n 0,\n 0,\n 0,\n 0,\n 0,\n 0,\n 0,\n 0,\n 0,\n 0,\n 0,\n 0,\n 0,\n 0,\n 0,\n 0,\n 0,\n 0,\n 0,\n 0,\n 0,\n 0,\n 0,\n 0,\n 0,\n 0,\n 0,\n 0,\n 0,\n 0,\n 0,\n 0,\n 0,\n 0,\n 0,\n 0,\n 0,\n 0,\n 0,\n 0,\n 0,\n 0,\n 0,\n 0,\n 0,\n 0,\n 0,\n 0,\n 0,\n 0,\n 0,\n 0,\n 0,\n 0,\n 0,\n 0,\n 0,\n 0,\n 0,\n 0,\n 0,\n 0,\n 0,\n 0,\n 0,\n 0,\n 0,\n 0,\n 0,\n 0,\n 0,\n 0,\n 0,\n 0,\n 0,\n 0,\n 0,\n 0,\n 0,\n 0,\n 0,\n 0,\n 0,\n 0,\n 0,\n 0,\n 0,\n 0,\n 0,\n 0,\n 0,\n 0,\n 0,\n 0,\n 0,\n 0,\n 0,\n 0,\n 0,\n 0,\n 0,\n 0,\n 0,\n 0,\n 0,\n 0,\n 0,\n 0,\n 0,\n 0,\n 0,\n 0,\n 0,\n 0,\n 0,\n 0,\n 0,\n 0,\n 0,\n 0,\n 0,\n 0,\n 0,\n 0,\n 0,\n 0,\n 0,\n 0,\n 0,\n 0,\n 0,\n 0,\n 0,\n 0,\n 0,\n 0,\n 0,\n 0,\n 0,\n 0,\n 0,\n 0,\n 0,\n 0,\n 0,\n 0,\n 0,\n 0,\n 0,\n 0,\n 0,\n 0,\n 0,\n 0,\n 0,\n 0,\n 0,\n 0,\n 0,\n 0,\n 0,\n 0,\n 0,\n 0,\n 0,\n 0,\n 0,\n 0,\n 0,\n 0,\n 0,\n 0,\n 0,\n 0,\n 0,\n 0,\n 0,\n 0,\n 0,\n 0,\n 0,\n 0,\n 0,\n 0,\n 0,\n 0,\n 0,\n 0,\n 0,\n 0,\n 0,\n 0,\n 0,\n 0,\n 0,\n 0,\n 0,\n 0,\n 0,\n 0,\n 0,\n 0,\n 0,\n 0,\n 0,\n 0,\n 0,\n 0,\n 0,\n 0,\n 0,\n 0,\n 0,\n 0,\n 0,\n 0,\n 0,\n 0,\n 0,\n 0,\n 0,\n 0,\n 0,\n 0,\n 0,\n 0,\n 0,\n 0,\n 0,\n 0,\n 0,\n 0,\n 0,\n 0,\n 0,\n 0,\n 0,\n 0,\n 0,\n 0,\n 0,\n 0,\n 0,\n 0,\n 0,\n 0,\n 0,\n 0,\n 0,\n 0,\n 0,\n 0,\n 0,\n 0,\n 0,\n 0,\n 0,\n 0,\n 0,\n 0,\n 0,\n 0,\n 0,\n 0,\n 0,\n 0,\n 0,\n 0,\n 0,\n 0,\n 0,\n 0,\n 0,\n 0,\n 0,\n 0,\n 0,\n 0,\n 0,\n 0,\n 0,\n 0,\n 0,\n 0,\n 0,\n 0,\n 0,\n 0,\n 0,\n 0,\n 0,\n 0,\n 0,\n 0,\n 0,\n 0,\n 0,\n 0,\n 0,\n 0,\n 0,\n 0,\n 0,\n 0,\n 0,\n 0,\n 0,\n 0,\n 0,\n 0,\n 0,\n 0,\n 0,\n 0,\n 0,\n 0,\n 0,\n 0,\n 0,\n 0,\n 0,\n 0,\n 0,\n 0,\n 0,\n 0,\n 0,\n 0,\n 0,\n 0,\n 0,\n 0,\n 0,\n 0,\n 0,\n 0,\n 0,\n 0,\n 0,\n 0,\n 0,\n 0,\n 0,\n 0,\n 0,\n 0,\n 0,\n 0,\n 0,\n 0,\n 0,\n 0,\n 0,\n 0,\n 0,\n 0,\n 0,\n 0,\n 0,\n 0,\n 0,\n 0,\n 0,\n 0,\n 0,\n 0,\n 0,\n 0,\n 0,\n 0,\n 0,\n 0,\n 0,\n 0,\n 0,\n 0,\n 0,\n 0,\n 0,\n 0,\n 0,\n 0,\n 0,\n 0,\n 0,\n 0,\n 0,\n 0,\n 0,\n 0,\n 0,\n 0,\n 0,\n 0,\n 0,\n 0,\n 0,\n 0,\n 0,\n 0,\n 0,\n 0,\n 0,\n 0,\n 0,\n 0,\n 0,\n 0,\n 0,\n 0,\n 0,\n 0,\n 0,\n 0,\n 0,\n 0,\n 0,\n 0,\n 0,\n 0,\n 0,\n 0,\n 0,\n 0,\n 0,\n 0,\n 0,\n 0,\n 0,\n 0,\n 0,\n 0,\n 0,\n 0,\n 0,\n 0,\n 0,\n 0,\n 0,\n 0,\n 0,\n 0,\n 0,\n 0,\n 0,\n 0,\n 0,\n 0,\n 0,\n 0,\n 0,\n 0,\n 0,\n 0,\n 0,\n 0,\n 0,\n 0,\n 0,\n 0,\n 0,\n 0,\n 0,\n 0,\n 0,\n 0,\n 0,\n 0,\n 0,\n 0,\n 0,\n 0,\n 0,\n 0,\n 0,\n 0,\n 0,\n 0,\n 0,\n 0,\n 0,\n 0,\n 0,\n 0,\n 0,\n 0,\n 0,\n 0,\n 0,\n 0,\n 0,\n 0,\n 0,\n 0,\n 0,\n 0,\n 0,\n 0,\n 0,\n 0,\n 0,\n 0,\n 0,\n 0,\n 0,\n 0,\n 0,\n 0,\n 0,\n 0,\n 0,\n 0,\n 0,\n 0,\n 0,\n 0,\n 0,\n 0,\n 0,\n 0,\n 0,\n 0,\n 0,\n 0,\n 0,\n 0,\n 0,\n 0,\n 0,\n 0,\n 0,\n 0,\n 0,\n 0,\n 0,\n 0,\n 0,\n 0,\n 0,\n 0,\n 0,\n 0,\n 0,\n 0,\n 0,\n 0,\n 0,\n 0,\n 0,\n 0,\n 0,\n 0,\n 0,\n 0,\n 0,\n 0,\n 0,\n 0,\n 0,\n 0,\n 0,\n 0,\n 0,\n 0,\n 0,\n 0,\n 0,\n 0,\n 0,\n 0,\n 0,\n 0,\n 0,\n 0,\n 0,\n 0,\n 0,\n 0,\n 0,\n 0,\n 0,\n 0,\n 0,\n 0,\n 0,\n 0,\n 0,\n 0,\n 0,\n 0,\n 0,\n 0,\n 0,\n 0,\n 0,\n 0,\n 0,\n 0,\n 0,\n 0,\n 0,\n 0,\n 0,\n 0,\n 0,\n 0,\n 0,\n 0,\n 0,\n 0,\n 0,\n 0,\n 0,\n 0,\n 0,\n 0,\n 0,\n 0,\n 0,\n 0,\n 0,\n 0,\n 0,\n 0,\n 0,\n 0,\n 0,\n 0,\n 0,\n 0,\n 0,\n 0,\n 0,\n 0,\n 0,\n 0,\n 0,\n 0,\n 0,\n 0,\n 0,\n 0,\n 0,\n 0,\n 0,\n 0,\n 0,\n 0,\n 0,\n 0,\n 0,\n 0,\n 0,\n 0,\n 0,\n 0,\n 0,\n 0,\n 0,\n 0,\n 0,\n 0,\n 0,\n 0,\n 0,\n 0,\n 0,\n 0,\n 0,\n 0,\n 0,\n 0,\n 0,\n 0,\n 0,\n 0,\n 0,\n 0,\n 0,\n 0,\n 0,\n 0,\n 0,\n 0,\n 0,\n 0,\n 0,\n 0,\n 0,\n 0,\n 0,\n 0,\n 0,\n 0,\n 0,\n 0,\n 0,\n 0,\n 0,\n 0,\n 0,\n 0,\n 0,\n 0,\n 0,\n 0,\n 0,\n 0,\n 0,\n 0,\n 0,\n 0,\n 0,\n 0,\n 0,\n 0,\n 0,\n 0,\n 0,\n 0,\n 0,\n 0,\n 0,\n 0,\n 0,\n 0,\n 0,\n 0,\n 0,\n 0,\n 0,\n 0,\n 0,\n 0,\n 0,\n 0,\n 0,\n 0,\n 0,\n 0,\n 0,\n 0,\n 0,\n 0,\n 0,\n 0,\n 0,\n 0,\n 0,\n 0,\n 0,\n 0,\n 0,\n 0,\n 0,\n 0,\n 0,\n 0,\n 0,\n 0,\n 0,\n 0,\n 0,\n 0,\n 0,\n 0,\n 0,\n 0,\n 0,\n 0,\n 0,\n 0,\n 0,\n 0,\n 0,\n 0,\n 0,\n 0,\n 0,\n 0,\n 0,\n 0,\n 0,\n 0,\n 0,\n 0,\n 0,\n 0,\n 0,\n 0,\n 0,\n 0,\n 0,\n 0,\n 0,\n 0,\n 0,\n 0,\n 0,\n 0,\n 0,\n 0,\n 0,\n 0,\n 0,\n 0,\n 0,\n 0,\n 0,\n 0,\n 0,\n 0,\n 0,\n 0,\n 0,\n 0,\n 0,\n 0,\n 0,\n 0,\n 0,\n 0,\n 0,\n 0,\n 0,\n 0,\n 0,\n 0,\n 0,\n 0,\n 0,\n 0,\n 0,\n 0,\n 0,\n 0,\n 0,\n 0,\n 0,\n 0,\n 0,\n 0,\n 0,\n 0,\n 0,\n 0,\n 0,\n 0,\n 0,\n ...]"
     },
     "execution_count": 7,
     "metadata": {},
     "output_type": "execute_result"
    }
   ],
   "source": [
    "prediction_class = [1 if prediction[i] > 0.5 else 0 for i in range(prediction.shape[0])]\n",
    "prediction_class"
   ],
   "metadata": {
    "collapsed": false,
    "pycharm": {
     "name": "#%%\n"
    }
   }
  },
  {
   "cell_type": "markdown",
   "source": [
    "## 3d\n",
    "\n",
    "Постройте отчет по качеству классификации и матрицу ошибок. Как изменятся отчет и матрица ошибок, если изменить порог в задании 3c (по умолчанию его значение равно 0.5)?\n",
    "\n",
    "*Функции, которые могут пригодиться при решении: `print(metrics.classification_report(...))`, `print(metrics.confusion_matrix(...))`*\n",
    "\n",
    "Функция classification_report для каждого класса объектов считает точность (precision) в этом классе и полноту (recall). Полнота - это процент объектов данного класса, которые ваш метод предсказания тоже отнес к этому классу, среди всех объектов данного класса. Точность (precision) - то же самое, только среди всех объектов, предсказанных для этого класса.\n",
    "\n",
    "Функция confusion_matrix возвращает матрицу с количествами объектов. Номера столбцов матрицы - это номера предсказанных классов, строки - это номера правильных классов. Например, элемент M[0,1] - это количество машин, где на самом деле IsBadBuy = 0, а вы предсказали 1."
   ],
   "metadata": {
    "collapsed": false
   }
  },
  {
   "cell_type": "code",
   "execution_count": 8,
   "outputs": [
    {
     "name": "stdout",
     "output_type": "stream",
     "text": [
      "              precision    recall  f1-score   support\n",
      "\n",
      "           0       0.88      1.00      0.93     63724\n",
      "           1       0.00      0.00      0.00      8944\n",
      "\n",
      "    accuracy                           0.88     72668\n",
      "   macro avg       0.44      0.50      0.47     72668\n",
      "weighted avg       0.77      0.88      0.82     72668\n",
      "\n"
     ]
    },
    {
     "name": "stderr",
     "output_type": "stream",
     "text": [
      "C:\\Users\\79185\\PycharmProjects\\machine_learning\\venv\\lib\\site-packages\\sklearn\\metrics\\_classification.py:1308: UndefinedMetricWarning: Precision and F-score are ill-defined and being set to 0.0 in labels with no predicted samples. Use `zero_division` parameter to control this behavior.\n",
      "  _warn_prf(average, modifier, msg_start, len(result))\n",
      "C:\\Users\\79185\\PycharmProjects\\machine_learning\\venv\\lib\\site-packages\\sklearn\\metrics\\_classification.py:1308: UndefinedMetricWarning: Precision and F-score are ill-defined and being set to 0.0 in labels with no predicted samples. Use `zero_division` parameter to control this behavior.\n",
      "  _warn_prf(average, modifier, msg_start, len(result))\n",
      "C:\\Users\\79185\\PycharmProjects\\machine_learning\\venv\\lib\\site-packages\\sklearn\\metrics\\_classification.py:1308: UndefinedMetricWarning: Precision and F-score are ill-defined and being set to 0.0 in labels with no predicted samples. Use `zero_division` parameter to control this behavior.\n",
      "  _warn_prf(average, modifier, msg_start, len(result))\n"
     ]
    }
   ],
   "source": [
    "print(metrics.classification_report(data.loc[i,\"IsBadBuy\"],prediction_class))\n"
   ],
   "metadata": {
    "collapsed": false,
    "pycharm": {
     "name": "#%%\n"
    }
   }
  },
  {
   "cell_type": "code",
   "execution_count": 9,
   "outputs": [
    {
     "name": "stdout",
     "output_type": "stream",
     "text": [
      "[[63724     0]\n",
      " [ 8944     0]]\n"
     ]
    }
   ],
   "source": [
    "print(metrics.confusion_matrix(data.loc[i,\"IsBadBuy\"],prediction_class))"
   ],
   "metadata": {
    "collapsed": false,
    "pycharm": {
     "name": "#%%\n"
    }
   }
  },
  {
   "cell_type": "markdown",
   "source": [
    "# Классификация\n",
    "\n",
    "## 4a\n",
    "Трактуя задачу как задачу классификации, постройте модель классификации «решающее дерево» глубины 20  (все аналогично линейной регрессии).\n",
    "\n",
    "\n",
    "*Функции, которые могут пригодиться при решении: `tree.DecisionTreeClassifier(max_depth=20) `*"
   ],
   "metadata": {
    "collapsed": false
   }
  },
  {
   "cell_type": "code",
   "execution_count": 10,
   "outputs": [
    {
     "data": {
      "text/plain": "DecisionTreeClassifier(max_depth=20)"
     },
     "execution_count": 10,
     "metadata": {},
     "output_type": "execute_result"
    }
   ],
   "source": [
    "tree20 = tree.DecisionTreeClassifier(max_depth=20)\n",
    "tree20.fit(data.loc[i,[\"VehOdo\",\"MMRCurrentRetailAveragePrice\"]], data.loc[i,\"IsBadBuy\"])"
   ],
   "metadata": {
    "collapsed": false,
    "pycharm": {
     "name": "#%%\n"
    }
   }
  },
  {
   "cell_type": "markdown",
   "source": [
    "## 4b\n",
    "\n",
    "Решающее дерево предсказывает вероятности. С помощью построенной модели рассчитайте вероятности наличия скрываемых недостатков.\n",
    "\n",
    "*Функции, которые могут пригодиться при решении: `model.predict_proba() `*"
   ],
   "metadata": {
    "collapsed": false
   }
  },
  {
   "cell_type": "code",
   "execution_count": 11,
   "outputs": [
    {
     "data": {
      "text/plain": "array([[0.89317804, 0.10682196],\n       [1.        , 0.        ],\n       [0.85810056, 0.14189944],\n       ...,\n       [0.89317804, 0.10682196],\n       [0.86746988, 0.13253012],\n       [0.93789474, 0.06210526]])"
     },
     "execution_count": 11,
     "metadata": {},
     "output_type": "execute_result"
    }
   ],
   "source": [
    "prediction2 = tree20.predict_proba(data.loc[i,[\"VehOdo\",\"MMRCurrentRetailAveragePrice\"]])\n",
    "prediction2"
   ],
   "metadata": {
    "collapsed": false,
    "pycharm": {
     "name": "#%%\n"
    }
   }
  },
  {
   "cell_type": "markdown",
   "source": [
    "## 4c\n",
    "\n",
    "Преобразуйте получившийся вектор предсказаний `prediction` к значениям `{0,1}`. Постройте отчет о классификации и матрицу ошибок. Какой метод оказался лучше?"
   ],
   "metadata": {
    "collapsed": false
   }
  },
  {
   "cell_type": "code",
   "execution_count": 12,
   "outputs": [],
   "source": [
    "prediction_class2 = [1 if prediction2[i][1] > 0.5 else 0 for i in range(prediction.shape[0])]"
   ],
   "metadata": {
    "collapsed": false,
    "pycharm": {
     "name": "#%%\n"
    }
   }
  },
  {
   "cell_type": "code",
   "execution_count": 13,
   "outputs": [
    {
     "name": "stdout",
     "output_type": "stream",
     "text": [
      "              precision    recall  f1-score   support\n",
      "\n",
      "           0       0.91      1.00      0.95     63724\n",
      "           1       0.96      0.31      0.47      8944\n",
      "\n",
      "    accuracy                           0.91     72668\n",
      "   macro avg       0.94      0.65      0.71     72668\n",
      "weighted avg       0.92      0.91      0.89     72668\n",
      "\n"
     ]
    }
   ],
   "source": [
    "print(metrics.classification_report(data.loc[i,\"IsBadBuy\"],prediction_class2))\n"
   ],
   "metadata": {
    "collapsed": false,
    "pycharm": {
     "name": "#%%\n"
    }
   }
  },
  {
   "cell_type": "code",
   "execution_count": 14,
   "outputs": [
    {
     "name": "stdout",
     "output_type": "stream",
     "text": [
      "[[63623   101]\n",
      " [ 6181  2763]]\n"
     ]
    }
   ],
   "source": [
    "print(metrics.confusion_matrix(data.loc[i,\"IsBadBuy\"],prediction_class2))"
   ],
   "metadata": {
    "collapsed": false,
    "pycharm": {
     "name": "#%%\n"
    }
   }
  },
  {
   "cell_type": "markdown",
   "source": [
    "# Кросс-валидация\n",
    "## 5a\n",
    "\n",
    "\n",
    "Разделите исходную выборку на две части, например, используя [slices](https://pythonz.net/references/named/slice/):\n",
    "\n",
    "`dataTrain = data.loc[0:34999,]\n",
    "dataTest = data.loc[35000:69999,]`"
   ],
   "metadata": {
    "collapsed": false
   }
  },
  {
   "cell_type": "code",
   "execution_count": 15,
   "outputs": [],
   "source": [
    "dataTrain = data.loc[0:34999,]\n",
    "dataTest = data.loc[35000:69999,]"
   ],
   "metadata": {
    "collapsed": false,
    "pycharm": {
     "name": "#%%\n"
    }
   }
  },
  {
   "cell_type": "markdown",
   "source": [
    "## 5b\n",
    "\n",
    "Натренируйте решающее дерево на  `dataTrain` и примените к  `dataTrain` и dataTest, вычислив для каждого случая точность предсказания.\n",
    "\n",
    "Проведите несколько экспериментов для различных глубин дерева. Напишите в комментариях, для каких глубин модель недообучена, для каких переобучена и где точка раннего останова.\n",
    "\n",
    "*Функции, которые могут пригодиться при решении: `metrics.accuracy_score() `*"
   ],
   "metadata": {
    "collapsed": false
   }
  },
  {
   "cell_type": "code",
   "execution_count": 15,
   "outputs": [],
   "source": [
    "\n"
   ],
   "metadata": {
    "collapsed": false,
    "pycharm": {
     "name": "#%%\n"
    }
   }
  },
  {
   "cell_type": "code",
   "execution_count": 16,
   "outputs": [
    {
     "ename": "KeyboardInterrupt",
     "evalue": "",
     "output_type": "error",
     "traceback": [
      "\u001B[1;31m---------------------------------------------------------------------------\u001B[0m",
      "\u001B[1;31mKeyboardInterrupt\u001B[0m                         Traceback (most recent call last)",
      "\u001B[1;32m~\\AppData\\Local\\Temp/ipykernel_14908/3048110261.py\u001B[0m in \u001B[0;36m<module>\u001B[1;34m\u001B[0m\n\u001B[0;32m      1\u001B[0m \u001B[0mtree5\u001B[0m \u001B[1;33m=\u001B[0m \u001B[0mtree\u001B[0m\u001B[1;33m.\u001B[0m\u001B[0mDecisionTreeClassifier\u001B[0m\u001B[1;33m(\u001B[0m\u001B[0mmax_depth\u001B[0m\u001B[1;33m=\u001B[0m\u001B[1;36m100\u001B[0m\u001B[1;33m)\u001B[0m\u001B[1;33m\u001B[0m\u001B[1;33m\u001B[0m\u001B[0m\n\u001B[1;32m----> 2\u001B[1;33m \u001B[0mtree5\u001B[0m\u001B[1;33m.\u001B[0m\u001B[0mfit\u001B[0m\u001B[1;33m(\u001B[0m\u001B[0mdataTrain\u001B[0m\u001B[1;33m.\u001B[0m\u001B[0mloc\u001B[0m\u001B[1;33m[\u001B[0m\u001B[0mi\u001B[0m\u001B[1;33m,\u001B[0m\u001B[1;33m[\u001B[0m\u001B[1;34m\"VehOdo\"\u001B[0m\u001B[1;33m,\u001B[0m\u001B[1;34m\"MMRCurrentRetailAveragePrice\"\u001B[0m\u001B[1;33m]\u001B[0m\u001B[1;33m]\u001B[0m\u001B[1;33m,\u001B[0m \u001B[0mdataTrain\u001B[0m\u001B[1;33m.\u001B[0m\u001B[0mloc\u001B[0m\u001B[1;33m[\u001B[0m\u001B[0mi\u001B[0m\u001B[1;33m,\u001B[0m\u001B[1;34m\"IsBadBuy\"\u001B[0m\u001B[1;33m]\u001B[0m\u001B[1;33m)\u001B[0m\u001B[1;33m\u001B[0m\u001B[1;33m\u001B[0m\u001B[0m\n\u001B[0m\u001B[0;32m      3\u001B[0m \u001B[0mprediction_train\u001B[0m \u001B[1;33m=\u001B[0m \u001B[0mtree5\u001B[0m\u001B[1;33m.\u001B[0m\u001B[0mpredict_proba\u001B[0m\u001B[1;33m(\u001B[0m\u001B[0mdataTrain\u001B[0m\u001B[1;33m.\u001B[0m\u001B[0mloc\u001B[0m\u001B[1;33m[\u001B[0m\u001B[0mi\u001B[0m\u001B[1;33m,\u001B[0m\u001B[1;33m[\u001B[0m\u001B[1;34m\"VehOdo\"\u001B[0m\u001B[1;33m,\u001B[0m\u001B[1;34m\"MMRCurrentRetailAveragePrice\"\u001B[0m\u001B[1;33m]\u001B[0m\u001B[1;33m]\u001B[0m\u001B[1;33m)\u001B[0m\u001B[1;33m\u001B[0m\u001B[1;33m\u001B[0m\u001B[0m\n\u001B[0;32m      4\u001B[0m \u001B[0mpredictionClass_train\u001B[0m \u001B[1;33m=\u001B[0m \u001B[1;33m[\u001B[0m\u001B[1;36m1\u001B[0m \u001B[1;32mif\u001B[0m \u001B[0mprediction_train\u001B[0m\u001B[1;33m[\u001B[0m\u001B[0mi\u001B[0m\u001B[1;33m]\u001B[0m\u001B[1;33m[\u001B[0m\u001B[1;36m1\u001B[0m\u001B[1;33m]\u001B[0m \u001B[1;33m>\u001B[0m \u001B[1;36m0.5\u001B[0m \u001B[1;32melse\u001B[0m \u001B[1;36m0\u001B[0m \u001B[1;32mfor\u001B[0m \u001B[0mi\u001B[0m \u001B[1;32min\u001B[0m \u001B[0mrange\u001B[0m\u001B[1;33m(\u001B[0m\u001B[0mprediction_train\u001B[0m\u001B[1;33m.\u001B[0m\u001B[0mshape\u001B[0m\u001B[1;33m[\u001B[0m\u001B[1;36m0\u001B[0m\u001B[1;33m]\u001B[0m\u001B[1;33m)\u001B[0m\u001B[1;33m]\u001B[0m\u001B[1;33m\u001B[0m\u001B[1;33m\u001B[0m\u001B[0m\n\u001B[0;32m      5\u001B[0m \u001B[1;33m\u001B[0m\u001B[0m\n",
      "\u001B[1;32m~\\PycharmProjects\\machine_learning\\venv\\lib\\site-packages\\sklearn\\tree\\_classes.py\u001B[0m in \u001B[0;36mfit\u001B[1;34m(self, X, y, sample_weight, check_input, X_idx_sorted)\u001B[0m\n\u001B[0;32m    935\u001B[0m         \"\"\"\n\u001B[0;32m    936\u001B[0m \u001B[1;33m\u001B[0m\u001B[0m\n\u001B[1;32m--> 937\u001B[1;33m         super().fit(\n\u001B[0m\u001B[0;32m    938\u001B[0m             \u001B[0mX\u001B[0m\u001B[1;33m,\u001B[0m\u001B[1;33m\u001B[0m\u001B[1;33m\u001B[0m\u001B[0m\n\u001B[0;32m    939\u001B[0m             \u001B[0my\u001B[0m\u001B[1;33m,\u001B[0m\u001B[1;33m\u001B[0m\u001B[1;33m\u001B[0m\u001B[0m\n",
      "\u001B[1;32m~\\PycharmProjects\\machine_learning\\venv\\lib\\site-packages\\sklearn\\tree\\_classes.py\u001B[0m in \u001B[0;36mfit\u001B[1;34m(self, X, y, sample_weight, check_input, X_idx_sorted)\u001B[0m\n\u001B[0;32m    418\u001B[0m             )\n\u001B[0;32m    419\u001B[0m \u001B[1;33m\u001B[0m\u001B[0m\n\u001B[1;32m--> 420\u001B[1;33m         \u001B[0mbuilder\u001B[0m\u001B[1;33m.\u001B[0m\u001B[0mbuild\u001B[0m\u001B[1;33m(\u001B[0m\u001B[0mself\u001B[0m\u001B[1;33m.\u001B[0m\u001B[0mtree_\u001B[0m\u001B[1;33m,\u001B[0m \u001B[0mX\u001B[0m\u001B[1;33m,\u001B[0m \u001B[0my\u001B[0m\u001B[1;33m,\u001B[0m \u001B[0msample_weight\u001B[0m\u001B[1;33m)\u001B[0m\u001B[1;33m\u001B[0m\u001B[1;33m\u001B[0m\u001B[0m\n\u001B[0m\u001B[0;32m    421\u001B[0m \u001B[1;33m\u001B[0m\u001B[0m\n\u001B[0;32m    422\u001B[0m         \u001B[1;32mif\u001B[0m \u001B[0mself\u001B[0m\u001B[1;33m.\u001B[0m\u001B[0mn_outputs_\u001B[0m \u001B[1;33m==\u001B[0m \u001B[1;36m1\u001B[0m \u001B[1;32mand\u001B[0m \u001B[0mis_classifier\u001B[0m\u001B[1;33m(\u001B[0m\u001B[0mself\u001B[0m\u001B[1;33m)\u001B[0m\u001B[1;33m:\u001B[0m\u001B[1;33m\u001B[0m\u001B[1;33m\u001B[0m\u001B[0m\n",
      "\u001B[1;31mKeyboardInterrupt\u001B[0m: "
     ]
    }
   ],
   "source": [
    "tree5 = tree.DecisionTreeClassifier(max_depth=100)\n",
    "tree5.fit(dataTrain.loc[i,[\"VehOdo\",\"MMRCurrentRetailAveragePrice\"]], dataTrain.loc[i,\"IsBadBuy\"])\n",
    "prediction_train = tree5.predict_proba(dataTrain.loc[i,[\"VehOdo\",\"MMRCurrentRetailAveragePrice\"]])\n",
    "predictionClass_train = [1 if prediction_train[i][1] > 0.5 else 0 for i in range(prediction_train.shape[0])]\n",
    "\n",
    "prediction_test = tree5.predict_proba(dataTest.loc[i,[\"VehOdo\",\"MMRCurrentRetailAveragePrice\"]])\n",
    "predictionClass_test = [1 if prediction_test[i][1] > 0.5 else 0 for i in range(prediction_test.shape[0])]\n",
    "\n",
    "print(metrics.accuracy_score(dataTrain.loc[i,\"IsBadBuy\"], predictionClass_train))\n",
    "print(metrics.accuracy_score(dataTest.loc[i,\"IsBadBuy\"], predictionClass_test))\n",
    "# >4 переобучена"
   ],
   "metadata": {
    "collapsed": false,
    "pycharm": {
     "name": "#%%\n"
    }
   }
  },
  {
   "cell_type": "code",
   "execution_count": null,
   "outputs": [],
   "source": [
    "tree5 = tree.DecisionTreeClassifier(max_depth=10)\n",
    "tree5.fit(dataTrain.loc[i,[\"VehOdo\",\"MMRCurrentRetailAveragePrice\"]], dataTrain.loc[i,\"IsBadBuy\"])\n",
    "\n",
    "prediction_train = tree5.predict_proba(dataTrain.loc[i,[\"VehOdo\",\"MMRCurrentRetailAveragePrice\"]])\n",
    "predictionClass_train = [1 if prediction_train[i][1] > 0.5 else 0 for i in range(prediction_train.shape[0])]\n",
    "\n",
    "prediction_test = tree5.predict_proba(dataTest.loc[i,[\"VehOdo\",\"MMRCurrentRetailAveragePrice\"]])\n",
    "predictionClass_test = [1 if prediction_test[i][1] > 0.5 else 0 for i in range(prediction_test.shape[0])]\n",
    "\n",
    "print(metrics.accuracy_score(dataTrain.loc[i,\"IsBadBuy\"], predictionClass_train))\n",
    "print(metrics.accuracy_score(dataTest.loc[i,\"IsBadBuy\"], predictionClass_test))\n",
    "# <4 недообучена"
   ],
   "metadata": {
    "collapsed": false,
    "pycharm": {
     "name": "#%%\n"
    }
   }
  },
  {
   "cell_type": "code",
   "execution_count": null,
   "outputs": [],
   "source": [
    "# При 5,6 точка раннего останова"
   ],
   "metadata": {
    "collapsed": false,
    "pycharm": {
     "name": "#%%\n"
    }
   }
  },
  {
   "cell_type": "markdown",
   "source": [
    "# Решающая функция\n",
    "## 6a\n",
    "\n",
    "Вернемся к модели решающего дерева глубины 20, построенного по всей обучающей выборке `data`. Пусть цена ошибки неправильного предсказания 0 равна 1000, а неправильного предсказания 1 — 100.\n",
    "\n",
    "Вычислите функцию потерь &mdash; среднюю ошибку на всей обучающей выборке."
   ],
   "metadata": {
    "collapsed": false
   }
  },
  {
   "cell_type": "code",
   "execution_count": null,
   "outputs": [],
   "source": [
    "tree20.fit(data.loc[i,[\"VehOdo\",\"MMRCurrentRetailAveragePrice\"]], data.loc[i,\"IsBadBuy\"])\n",
    "\n",
    "prediction4 = tree20.predict_proba(data.loc[i,[\"VehOdo\",\"MMRCurrentRetailAveragePrice\"]])\n",
    "\n",
    "prediction_class4 = [1 if prediction4[i][1] > 0.5 else 0 for i in range(prediction4.shape[0])]\n",
    "matrix = metrics.confusion_matrix(data.loc[i,\"IsBadBuy\"],prediction_class4)\n",
    "matrix"
   ],
   "metadata": {
    "collapsed": false,
    "pycharm": {
     "name": "#%%\n"
    }
   }
  },
  {
   "cell_type": "code",
   "execution_count": null,
   "outputs": [],
   "source": [
    "def find_err(mtx):\n",
    "    err_el_1000 = mtx[1,0] * 1000\n",
    "    err_el_100 = mtx[0,1] * 100\n",
    "    return (err_el_100+err_el_1000)/len(prediction)\n",
    "find_err(matrix)"
   ],
   "metadata": {
    "collapsed": false,
    "pycharm": {
     "name": "#%%\n"
    }
   }
  },
  {
   "cell_type": "markdown",
   "source": [
    "## 6b\n",
    "\n",
    "Выясните, как нужно изменить решающую функцию `[0 if predictionProb[i][0] > 0.5 else 1 for i in range(prediction.shape[0])]`, чтобы функция потерь была минимальна?\n",
    "\n",
    "Найдите оптимальную решающую функцию и минимальное значение функционала потерь методом подбора или пользуясь формулой из лекции 2 (слайд Decision function).\n",
    "\n"
   ],
   "metadata": {
    "collapsed": false
   }
  },
  {
   "cell_type": "code",
   "execution_count": null,
   "outputs": [],
   "source": [
    "prediction_class_my = [0 if prediction4[i][0] > 0.91 else 1 for i in range(prediction.shape[0])]\n",
    "matrix = metrics.confusion_matrix(data.loc[i,\"IsBadBuy\"],prediction_class_my)\n",
    "find_err(matrix)"
   ],
   "metadata": {
    "collapsed": false,
    "pycharm": {
     "name": "#%%\n"
    }
   }
  },
  {
   "cell_type": "code",
   "execution_count": null,
   "outputs": [],
   "source": [],
   "metadata": {
    "collapsed": false,
    "pycharm": {
     "name": "#%%\n"
    }
   }
  }
 ],
 "metadata": {
  "kernelspec": {
   "display_name": "Python 3 (ipykernel)",
   "language": "python",
   "name": "python3"
  },
  "language_info": {
   "codemirror_mode": {
    "name": "ipython",
    "version": 3
   },
   "file_extension": ".py",
   "mimetype": "text/x-python",
   "name": "python",
   "nbconvert_exporter": "python",
   "pygments_lexer": "ipython3",
   "version": "3.8.6"
  }
 },
 "nbformat": 4,
 "nbformat_minor": 1
}